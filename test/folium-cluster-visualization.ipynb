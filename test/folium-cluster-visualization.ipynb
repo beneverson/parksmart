{
 "metadata": {
  "name": "",
  "signature": "sha256:b32544345eef5014a7bf3ef12dd76cf85d3b5b650e44ab1222e084ed7ec79e45"
 },
 "nbformat": 3,
 "nbformat_minor": 0,
 "worksheets": [
  {
   "cells": [
    {
     "cell_type": "code",
     "collapsed": false,
     "input": [
      "import folium\n",
      "from IPython.display import HTML\n",
      "import pandas as pd\n",
      "import random"
     ],
     "language": "python",
     "metadata": {},
     "outputs": [],
     "prompt_number": 1
    },
    {
     "cell_type": "code",
     "collapsed": false,
     "input": [
      "# define the test map center (Greenpoint, Brooklyn)\n",
      "lon, lat = 40.7312, -73.9539\n",
      "fMap = folium.Map(location=[lon, lat], zoom_start=17, tiles=\"Stamen Toner\")"
     ],
     "language": "python",
     "metadata": {},
     "outputs": [],
     "prompt_number": 2
    },
    {
     "cell_type": "code",
     "collapsed": false,
     "input": [
      "violations = pd.read_csv('csvs/94-clustered.csv', index_col=0)\n",
      "violations.shape"
     ],
     "language": "python",
     "metadata": {},
     "outputs": [
      {
       "metadata": {},
       "output_type": "pyout",
       "prompt_number": 3,
       "text": [
        "(29517, 14)"
       ]
      }
     ],
     "prompt_number": 3
    },
    {
     "cell_type": "code",
     "collapsed": false,
     "input": [
      "# group the dataframe by clusterid\n",
      "grouped = violations.groupby('clusterid')"
     ],
     "language": "python",
     "metadata": {},
     "outputs": [],
     "prompt_number": 4
    },
    {
     "cell_type": "code",
     "collapsed": false,
     "input": [
      "# go through all groups, and add them to the map\n",
      "for name, group in grouped:\n",
      "   # generate a random color\n",
      "    r = lambda: random.randint(0,255)\n",
      "    rColor = '#%02X%02X%02X' % (r(),r(),r())\n",
      "    # and for each entry in the cluster\n",
      "    for index, row in group.iterrows():\n",
      "        # add a marker with that color at the correct location\n",
      "        fMap.circle_marker(location=[row['longitude'], row['latitude']], radius=10, \n",
      "                           line_color=rColor, fill_color=rColor, fill_opacity=0.2)"
     ],
     "language": "python",
     "metadata": {},
     "outputs": [],
     "prompt_number": 5
    },
    {
     "cell_type": "code",
     "collapsed": false,
     "input": [
      "fMap.create_map(path='clustermap.html') \n",
      "\n",
      "HTML('<iframe src=clustermap.html width=980 height=520></iframe>')"
     ],
     "language": "python",
     "metadata": {},
     "outputs": [
      {
       "html": [
        "<iframe src=clustermap.html width=980 height=520></iframe>"
       ],
       "metadata": {},
       "output_type": "pyout",
       "prompt_number": 6,
       "text": [
        "<IPython.core.display.HTML at 0x108a0e190>"
       ]
      }
     ],
     "prompt_number": 6
    },
    {
     "cell_type": "code",
     "collapsed": false,
     "input": [],
     "language": "python",
     "metadata": {},
     "outputs": [],
     "prompt_number": 6
    }
   ],
   "metadata": {}
  }
 ]
}