{
 "metadata": {
  "name": "",
  "signature": "sha256:6c30f48ba2017d229197d47e227c110453781c546db706b1ec49047878173b76"
 },
 "nbformat": 3,
 "nbformat_minor": 0,
 "worksheets": [
  {
   "cells": [
    {
     "cell_type": "code",
     "collapsed": false,
     "input": [
      "import folium\n",
      "from IPython.display import HTML\n",
      "import pandas as pd\n",
      "import random\n",
      "from pymongo import MongoClient"
     ],
     "language": "python",
     "metadata": {},
     "outputs": [],
     "prompt_number": 1
    },
    {
     "cell_type": "code",
     "collapsed": false,
     "input": [
      "# define the test map center (Greenpoint, Brooklyn)\n",
      "lon, lat = 40.7312, -73.9539\n",
      "fMap = folium.Map(location=[lon, lat], zoom_start=17, tiles=\"Stamen Toner\")"
     ],
     "language": "python",
     "metadata": {},
     "outputs": [],
     "prompt_number": 2
    },
    {
     "cell_type": "code",
     "collapsed": false,
     "input": [
      "# get connection to the mongodb instance\n",
      "client = MongoClient()\n",
      "db = client.nycparking\n",
      "collection = db.clusterbounds"
     ],
     "language": "python",
     "metadata": {},
     "outputs": [],
     "prompt_number": 3
    },
    {
     "cell_type": "code",
     "collapsed": false,
     "input": [
      "# query the database\n",
      "# query for all points near the center of this map\n",
      "_ticketlist = list(collection.find())\n",
      "\n",
      "print len(_ticketlist)"
     ],
     "language": "python",
     "metadata": {},
     "outputs": [
      {
       "output_type": "stream",
       "stream": "stdout",
       "text": [
        "733\n"
       ]
      }
     ],
     "prompt_number": 4
    },
    {
     "cell_type": "code",
     "collapsed": false,
     "input": [],
     "language": "python",
     "metadata": {},
     "outputs": [],
     "prompt_number": 4
    },
    {
     "cell_type": "code",
     "collapsed": false,
     "input": [
      "# go through all groups, and add them to the map\n",
      "for _ticket in _ticketlist:\n",
      "    if _ticket['_id'] != '94_-1':\n",
      "       # generate a random color\n",
      "        r = lambda: random.randint(0,255)\n",
      "        rColor = '#%02X%02X%02X' % (r(),r(),r())\n",
      "        # and for each entry in the cluster\n",
      "        _value = _ticket['value']\n",
      "        coordinates = [ [_value['firstPoint'][1], _value['firstPoint'][0]], [_value['secondPoint'][1], _value['secondPoint'][0]]]\n",
      "        fMap.line(coordinates, line_color=rColor, line_weight=10)\n",
      "        #fMap.circle_marker(location=[_value['firstPoint'][1], _value['firstPoint'][0]], radius=10, line_color=rColor, fill_color=rColor, fill_opacity=0.2)\n",
      "        #fMap.circle_marker(location=[_value['secondPoint'][1], _value['secondPoint'][0]], radius=10, line_color=rColor, fill_color=rColor, fill_opacity=0.2)"
     ],
     "language": "python",
     "metadata": {},
     "outputs": [],
     "prompt_number": 5
    },
    {
     "cell_type": "code",
     "collapsed": false,
     "input": [
      "fMap.create_map(path='clustermap.html') \n",
      "\n",
      "HTML('<iframe src=clustermap.html width=980 height=520></iframe>')"
     ],
     "language": "python",
     "metadata": {},
     "outputs": [
      {
       "html": [
        "<iframe src=clustermap.html width=980 height=520></iframe>"
       ],
       "metadata": {},
       "output_type": "pyout",
       "prompt_number": 6,
       "text": [
        "<IPython.core.display.HTML at 0x10e727450>"
       ]
      }
     ],
     "prompt_number": 6
    },
    {
     "cell_type": "code",
     "collapsed": false,
     "input": [],
     "language": "python",
     "metadata": {},
     "outputs": [],
     "prompt_number": 6
    }
   ],
   "metadata": {}
  }
 ]
}