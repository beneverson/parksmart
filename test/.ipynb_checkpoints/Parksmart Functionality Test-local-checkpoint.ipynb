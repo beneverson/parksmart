{
 "metadata": {
  "name": "",
  "signature": "sha256:64c50899bdab415d10a4bbcb1d92f5f5947024cf901e935e8130d1b4a1408d24"
 },
 "nbformat": 3,
 "nbformat_minor": 0,
 "worksheets": [
  {
   "cells": [
    {
     "cell_type": "code",
     "collapsed": false,
     "input": [
      "import folium\n",
      "from IPython.display import HTML\n",
      "import pandas as pd\n",
      "import random\n",
      "from pymongo import MongoClient\n",
      "from urlparse import urlparse\n",
      "import random\n",
      "import datetime"
     ],
     "language": "python",
     "metadata": {},
     "outputs": [],
     "prompt_number": 11
    },
    {
     "cell_type": "code",
     "collapsed": false,
     "input": [
      "# define the test map center (Greenpoint, Brooklyn)\n",
      "lon, lat = 40.7312, -73.9539\n",
      "fMap = folium.Map(location=[lon, lat], zoom_start=17, tiles=\"Stamen Toner\")"
     ],
     "language": "python",
     "metadata": {},
     "outputs": [],
     "prompt_number": 2
    },
    {
     "cell_type": "code",
     "collapsed": false,
     "input": [
      "# get connection to the mongodb instance\n",
      "client = MongoClient()\n",
      "db = client.nycparking\n",
      "violationHistory = db.violationhistory\n",
      "clusterBounds = db.clusterbounds"
     ],
     "language": "python",
     "metadata": {},
     "outputs": [],
     "prompt_number": 3
    },
    {
     "cell_type": "code",
     "collapsed": false,
     "input": [
      "# query the database\n",
      "# query for all clusters\n",
      "#nearbyClusters = list(clusterBounds.find())\n",
      "nearbyClusters = list(clusterBounds.find({ 'line': { '$geoNear' : { '$geometry' : { 'type' : 'Point' , \n",
      "                                                                                   'coordinates' : [ lat, lon ] } ,\n",
      "                                                                   '$maxDistance' : 200} } }))\n",
      "print len(nearbyClusters)"
     ],
     "language": "python",
     "metadata": {},
     "outputs": [
      {
       "output_type": "stream",
       "stream": "stdout",
       "text": [
        "22\n"
       ]
      }
     ],
     "prompt_number": 4
    },
    {
     "cell_type": "code",
     "collapsed": false,
     "input": [
      "def flipCoordinates(cluster):\n",
      "    coordinates = [[cluster['line']['coordinates'][0][1], cluster['line']['coordinates'][0][0]], [cluster['line']['coordinates'][1][1], cluster['line']['coordinates'][1][0]]]\n",
      "    return coordinates"
     ],
     "language": "python",
     "metadata": {},
     "outputs": [],
     "prompt_number": 5
    },
    {
     "cell_type": "code",
     "collapsed": false,
     "input": [
      "def getScoreForCluster(cluster):\n",
      "    # get the violations from this cluster and this precinct\n",
      "    violations = list(violationHistory.find({'cluster.precinct': cluster['cluster']['precinct'], \n",
      "                                             'cluster.clusterID': cluster['cluster']['clusterID']}))\n",
      "    N_total = 0\n",
      "    N_after = 0\n",
      "    for violation in violations:"
     ],
     "language": "python",
     "metadata": {},
     "outputs": [],
     "prompt_number": 7
    },
    {
     "cell_type": "code",
     "collapsed": false,
     "input": [
      "for cluster in nearbyClusters:\n",
      "    if str(cluster['cluster']['clusterID']) != '-1': # if this is not the noise cluster\n",
      "        # generate a random color\n",
      "        r = lambda: random.randint(0,255)\n",
      "        rColor = '#%02X%02X%02X' % (r(),r(),r())\n",
      "        # add a line with that color at the correct location\n",
      "        coordinates = flipCoordinates(cluster)\n",
      "        fMap.line(coordinates, line_color=rColor, line_weight=10)"
     ],
     "language": "python",
     "metadata": {},
     "outputs": [
      {
       "output_type": "stream",
       "stream": "stdout",
       "text": [
        "313\n",
        "256\n",
        "31"
       ]
      },
      {
       "output_type": "stream",
       "stream": "stdout",
       "text": [
        "\n",
        "214"
       ]
      },
      {
       "output_type": "stream",
       "stream": "stdout",
       "text": [
        "\n",
        "217"
       ]
      },
      {
       "output_type": "stream",
       "stream": "stdout",
       "text": [
        "\n",
        "197"
       ]
      },
      {
       "output_type": "stream",
       "stream": "stdout",
       "text": [
        "\n",
        "37\n",
        "61"
       ]
      },
      {
       "output_type": "stream",
       "stream": "stdout",
       "text": [
        "\n",
        "253"
       ]
      },
      {
       "output_type": "stream",
       "stream": "stdout",
       "text": [
        "\n",
        "37"
       ]
      },
      {
       "output_type": "stream",
       "stream": "stdout",
       "text": [
        "\n",
        "4"
       ]
      },
      {
       "output_type": "stream",
       "stream": "stdout",
       "text": [
        "\n",
        "13\n",
        "37"
       ]
      },
      {
       "output_type": "stream",
       "stream": "stdout",
       "text": [
        "\n",
        "161"
       ]
      },
      {
       "output_type": "stream",
       "stream": "stdout",
       "text": [
        "\n",
        "212"
       ]
      },
      {
       "output_type": "stream",
       "stream": "stdout",
       "text": [
        "\n",
        "257"
       ]
      },
      {
       "output_type": "stream",
       "stream": "stdout",
       "text": [
        "\n",
        "89"
       ]
      },
      {
       "output_type": "stream",
       "stream": "stdout",
       "text": [
        "\n",
        "42"
       ]
      },
      {
       "output_type": "stream",
       "stream": "stdout",
       "text": [
        "\n",
        "6"
       ]
      },
      {
       "output_type": "stream",
       "stream": "stdout",
       "text": [
        "\n",
        "3"
       ]
      },
      {
       "output_type": "stream",
       "stream": "stdout",
       "text": [
        "\n",
        "115"
       ]
      },
      {
       "output_type": "stream",
       "stream": "stdout",
       "text": [
        "\n",
        "4"
       ]
      },
      {
       "output_type": "stream",
       "stream": "stdout",
       "text": [
        "\n"
       ]
      }
     ],
     "prompt_number": 10
    },
    {
     "cell_type": "code",
     "collapsed": false,
     "input": [
      "fMap.create_map(path='clustermap.html') \n",
      "\n",
      "HTML('<iframe src=clustermap.html width=980 height=520></iframe>')"
     ],
     "language": "python",
     "metadata": {},
     "outputs": [
      {
       "html": [
        "<iframe src=clustermap.html width=980 height=520></iframe>"
       ],
       "metadata": {},
       "output_type": "pyout",
       "prompt_number": 9,
       "text": [
        "<IPython.core.display.HTML at 0x104b95250>"
       ]
      }
     ],
     "prompt_number": 9
    },
    {
     "cell_type": "code",
     "collapsed": false,
     "input": [],
     "language": "python",
     "metadata": {},
     "outputs": []
    }
   ],
   "metadata": {}
  }
 ]
}