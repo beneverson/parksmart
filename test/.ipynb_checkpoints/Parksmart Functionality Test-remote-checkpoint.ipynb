{
 "metadata": {
  "name": "",
  "signature": "sha256:43a22f51fe28ed397444947e66b94bcb0c28548ce830f5b2c605663f2bb4de8a"
 },
 "nbformat": 3,
 "nbformat_minor": 0,
 "worksheets": []
}