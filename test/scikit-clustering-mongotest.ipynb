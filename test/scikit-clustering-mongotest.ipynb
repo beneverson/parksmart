{
 "metadata": {
  "name": "",
  "signature": "sha256:bcf2919630cbe9a119ad9d3940639d4aeb2f3f8a6d4128d059402f089ad9723c"
 },
 "nbformat": 3,
 "nbformat_minor": 0,
 "worksheets": [
  {
   "cells": [
    {
     "cell_type": "code",
     "collapsed": false,
     "input": [
      "from pymongo import MongoClient\n",
      "import os\n",
      "from urlparse import urlparse\n",
      "import pandas as pd\n",
      "import geojson\n",
      "from time import strptime, mktime\n",
      "from datetime import datetime\n",
      "from scipy.spatial.distance import pdist, squareform\n",
      "from sklearn.cluster import DBSCAN\n",
      "import numpy as np"
     ],
     "language": "python",
     "metadata": {},
     "outputs": [],
     "prompt_number": 1
    },
    {
     "cell_type": "code",
     "collapsed": false,
     "input": [
      "# get connection to the mongodb instance\n",
      "client = MongoClient()\n",
      "db = client.nycparking\n",
      "collection = db.violationhistory"
     ],
     "language": "python",
     "metadata": {},
     "outputs": [],
     "prompt_number": 2
    },
    {
     "cell_type": "code",
     "collapsed": false,
     "input": [
      "# date formatting method\n",
      "def createdate(_violationtime, _violationdate):\n",
      "    try: #try to format the date string, if not possible just return None\n",
      "         # try to split the date string\n",
      "        _m, _d, _y = _violationdate.split('/')\n",
      "        # first append an 'M' to the time string\n",
      "        _vtime = _violationtime + 'M'\n",
      "        if len(_d) < 2:\n",
      "            _d = '0' + _d\n",
      "        if len(_m) < 2:\n",
      "            _m = '0' + _m\n",
      "        # combine both strings\n",
      "        _dtstr = _vtime + ' ' + _m + ' ' + _d + ' ' + _y\n",
      "        # return the corresponding date object\n",
      "        _datetimeobj = datetime.fromtimestamp(mktime(strptime(_dtstr, '%H%M%p %m %d %y'))) \n",
      "        return _datetimeobj\n",
      "    except ValueError:\n",
      "        return None"
     ],
     "language": "python",
     "metadata": {},
     "outputs": [],
     "prompt_number": 3
    },
    {
     "cell_type": "code",
     "collapsed": false,
     "input": [
      "violations = pd.read_csv('csvs/all_violations.csv', index_col=0)\n",
      "violations.shape"
     ],
     "language": "python",
     "metadata": {},
     "outputs": [
      {
       "metadata": {},
       "output_type": "pyout",
       "prompt_number": 4,
       "text": [
        "(1068954, 13)"
       ]
      }
     ],
     "prompt_number": 4
    },
    {
     "cell_type": "code",
     "collapsed": false,
     "input": [
      "# params for DBSCAN\n",
      "_eps = .000175\n",
      "_minpts = 3\n",
      "# group the violations by precinct\n",
      "grouped = violations.groupby('precinct')"
     ],
     "language": "python",
     "metadata": {},
     "outputs": []
    },
    {
     "cell_type": "code",
     "collapsed": false,
     "input": [
      "for name, group in grouped:\n",
      "    # the list of violations to ultimately add to mongodb      \n",
      "    aggregated_list = []\n",
      "    # test: only cluster this precinct\n",
      "    if str(name) == \"94\":\n",
      "        # zip the lat lon, into a single vector\n",
      "        X = [list(i) for i in zip(group.latitude, group.longitude)]\n",
      "        clusters = DBSCAN(eps=_eps, min_samples=_minpts, metric='euclidean').fit_predict(np.array(X))\n",
      "        # save the clustered df\n",
      "        clustered_df = group.copy()\n",
      "        clustered_df['clusterid'] = clusters\n",
      "        # go through the cluster-assigned dataframe and add to 'aggregated_list'\n",
      "        for index, row in clustered_df.iterrows():\n",
      "            unique_cluster = str(name) + \"_\" + str(row['clusterid'])\n",
      "            _thedate = createdate(row['violationtime'], row['violationdate'])\n",
      "            if _thedate is not None:\n",
      "                # create the geojson object\n",
      "                geoData = {'type' : 'Point', 'coordinates' : [row['latitude'], row['longitude']]}\n",
      "                _violation = {'datetime':_thedate,\n",
      "                        'weekday':_thedate.weekday(),\n",
      "                        'hour':_thedate.time().hour,\n",
      "                        'minute':_thedate.time().minute,\n",
      "                        'precinct':row['precinct'],\n",
      "                        'loc':geoData,\n",
      "                        'clusterid':unique_cluster}\n",
      "                aggregated_list.append(_violation)\n",
      "        print \"successfully clustered district \" + str(name) + \" adding to mongo\"\n",
      "        db.violationhistory.insert(aggregated_list)"
     ],
     "language": "python",
     "metadata": {},
     "outputs": []
    },
    {
     "cell_type": "code",
     "collapsed": false,
     "input": [],
     "language": "python",
     "metadata": {},
     "outputs": []
    }
   ],
   "metadata": {}
  }
 ]
}