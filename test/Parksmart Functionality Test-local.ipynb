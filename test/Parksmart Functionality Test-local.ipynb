{
 "metadata": {
  "name": "",
  "signature": "sha256:38488a5d97e09c04d7f3b4be9c78c5bc2d75a92dc747479b50e6dc9ee1a70459"
 },
 "nbformat": 3,
 "nbformat_minor": 0,
 "worksheets": [
  {
   "cells": [
    {
     "cell_type": "code",
     "collapsed": false,
     "input": [
      "import folium\n",
      "from IPython.display import HTML\n",
      "import pandas as pd\n",
      "import random\n",
      "from pymongo import MongoClient\n",
      "from urlparse import urlparse\n",
      "import random\n",
      "import datetime\n",
      "from matplotlib.cm import get_cmap\n",
      "from matplotlib.colors import rgb2hex"
     ],
     "language": "python",
     "metadata": {},
     "outputs": [],
     "prompt_number": 1
    },
    {
     "cell_type": "code",
     "collapsed": false,
     "input": [
      "# define the test map center (Greenpoint, Brooklyn)\n",
      "lon, lat = 40.7312, -73.9539\n",
      "fMap = folium.Map(location=[lon, lat], zoom_start=17, tiles=\"Stamen Toner\")"
     ],
     "language": "python",
     "metadata": {},
     "outputs": [],
     "prompt_number": 2
    },
    {
     "cell_type": "code",
     "collapsed": false,
     "input": [
      "# make a custom time obj for testing purposes\n",
      "datestr = '2014-10-27 9:15:00'\n",
      "dateobj = datetime.datetime.strptime(datestr,'%Y-%m-%d %H:%M:%S')"
     ],
     "language": "python",
     "metadata": {},
     "outputs": [],
     "prompt_number": 3
    },
    {
     "cell_type": "code",
     "collapsed": false,
     "input": [
      "# make a custom colormap\n",
      "cmap = get_cmap(name='RdYlGn')"
     ],
     "language": "python",
     "metadata": {},
     "outputs": [],
     "prompt_number": 4
    },
    {
     "cell_type": "code",
     "collapsed": false,
     "input": [
      "def convert_to_hex(rgba_color) :\n",
      "    red = int(rgba_color.red*255)\n",
      "    green = int(rgba_color.green*255)\n",
      "    blue = int(rgba_color.blue*255)\n",
      "    return '0x{r:02x}{g:02x}{b:02x}'.format(r=red,g=green,b=blue)"
     ],
     "language": "python",
     "metadata": {},
     "outputs": [],
     "prompt_number": 5
    },
    {
     "cell_type": "code",
     "collapsed": false,
     "input": [
      "# get connection to the mongodb instance\n",
      "client = MongoClient()\n",
      "db = client.nycparking\n",
      "violationHistory = db.violationhistory\n",
      "clusterBounds = db.clusterbounds"
     ],
     "language": "python",
     "metadata": {},
     "outputs": [],
     "prompt_number": 6
    },
    {
     "cell_type": "code",
     "collapsed": false,
     "input": [
      "# query the database\n",
      "# query for all clusters\n",
      "#nearbyClusters = list(clusterBounds.find())\n",
      "nearbyClusters = list(clusterBounds.find({ 'line': { '$geoNear' : { '$geometry' : { 'type' : 'Point' , \n",
      "                                                                                   'coordinates' : [ lat, lon ] } ,\n",
      "                                                                   '$maxDistance' : 750} } }))\n",
      "#print len(nearbyClusters)"
     ],
     "language": "python",
     "metadata": {},
     "outputs": [],
     "prompt_number": 7
    },
    {
     "cell_type": "code",
     "collapsed": false,
     "input": [
      "def flipCoordinates(cluster):\n",
      "    coordinates = [[cluster['line']['coordinates'][0][1], cluster['line']['coordinates'][0][0]], [cluster['line']['coordinates'][1][1], cluster['line']['coordinates'][1][0]]]\n",
      "    return coordinates"
     ],
     "language": "python",
     "metadata": {},
     "outputs": [],
     "prompt_number": 8
    },
    {
     "cell_type": "code",
     "collapsed": false,
     "input": [
      "def getScoreForCluster(cluster):\n",
      "    # get the violations from this cluster and this precinct\n",
      "    violations = list(violationHistory.find({'cluster.precinct': cluster['cluster']['precinct'], \n",
      "                                             'cluster.clusterID': cluster['cluster']['clusterID']}))\n",
      "    totalViolations = [tv for tv in violations if tv['weekday'] == dateobj.weekday()] # total number of tickets given out in this cluster\n",
      "    # list all the tickets given out at or after the current time on this weekday\n",
      "    upcomingViolations = [uv for uv in totalViolations if uv['datetime'].time() >= dateobj.time()]\n",
      "    N_total = len(totalViolations)\n",
      "    N_after = len(upcomingViolations)\n",
      "    # total score is the proportion of tickets already given out\n",
      "    if N_total == 0.0:\n",
      "        return 1\n",
      "    else:\n",
      "        return 1. - (N_after * 1. / N_total)\n",
      "        "
     ],
     "language": "python",
     "metadata": {},
     "outputs": [],
     "prompt_number": 9
    },
    {
     "cell_type": "code",
     "collapsed": false,
     "input": [
      "for cluster in nearbyClusters:\n",
      "    if str(cluster['cluster']['clusterID']) != '-1': # if this is not the noise cluster\n",
      "        # generate a random color\n",
      "        # r = lambda: random.randint(0,255)\n",
      "        # rColor = '#%02X%02X%02X' % (r(),r(),r())\n",
      "        # add a line with that color at the correct location\n",
      "        # find the score for the cluster\n",
      "        score = getScoreForCluster(cluster)\n",
      "        # generate a color for the cluster based on the score\n",
      "        colorHex = rgb2hex(cmap(score))\n",
      "        coordinates = flipCoordinates(cluster)\n",
      "        fMap.line(coordinates, line_color=colorHex, line_weight=10)"
     ],
     "language": "python",
     "metadata": {},
     "outputs": [],
     "prompt_number": 10
    },
    {
     "cell_type": "code",
     "collapsed": false,
     "input": [
      "fMap.create_map(path='clustermap8.html') \n",
      "\n",
      "HTML('<iframe src=clustermap8.html width=980 height=520></iframe>')"
     ],
     "language": "python",
     "metadata": {},
     "outputs": [
      {
       "html": [
        "<iframe src=clustermap8.html width=980 height=520></iframe>"
       ],
       "metadata": {},
       "output_type": "pyout",
       "prompt_number": 11,
       "text": [
        "<IPython.core.display.HTML at 0x109d8d810>"
       ]
      }
     ],
     "prompt_number": 11
    },
    {
     "cell_type": "code",
     "collapsed": false,
     "input": [],
     "language": "python",
     "metadata": {},
     "outputs": [],
     "prompt_number": 11
    }
   ],
   "metadata": {}
  }
 ]
}