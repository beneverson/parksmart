{
 "metadata": {
  "name": "",
  "signature": "sha256:20eea4def4ad5765977bbe85321be09fb4a82e76f7400c8aeb1e832d9c52150d"
 },
 "nbformat": 3,
 "nbformat_minor": 0,
 "worksheets": [
  {
   "cells": [
    {
     "cell_type": "code",
     "collapsed": false,
     "input": [
      "import pandas as pd\n",
      "from sklearn.neighbors import DistanceMetric\n",
      "from sklearn.cluster import DBSCAN\n",
      "import numpy as np"
     ],
     "language": "python",
     "metadata": {},
     "outputs": [],
     "prompt_number": 6
    },
    {
     "cell_type": "code",
     "collapsed": false,
     "input": [
      "violations = pd.read_csv('csvs/all_violations.csv', index_col=0)\n",
      "violations.shape"
     ],
     "language": "python",
     "metadata": {},
     "outputs": [
      {
       "metadata": {},
       "output_type": "pyout",
       "prompt_number": 2,
       "text": [
        "(1068954, 13)"
       ]
      }
     ],
     "prompt_number": 2
    },
    {
     "cell_type": "code",
     "collapsed": false,
     "input": [
      "# params for DBSCAN\n",
      "_eps = .000175\n",
      "_minpts = 3\n",
      "# group the violations by precinct\n",
      "grouped = violations.groupby('precinct')"
     ],
     "language": "python",
     "metadata": {},
     "outputs": [],
     "prompt_number": 10
    },
    {
     "cell_type": "code",
     "collapsed": false,
     "input": [
      "for name, group in grouped:\n",
      "    if str(name) == \"94\":\n",
      "        # zip the lat lon, into a single vector\n",
      "        X = [list(i) for i in zip(group.latitude, group.longitude)]\n",
      "        clusters = DBSCAN(eps=_eps, min_samples=_minpts, metric='euclidean').fit_predict(np.array(X))\n",
      "        # save the clustered df\n",
      "        clustered_df = group.copy()\n",
      "        clustered_df['clusterid'] = clusters\n",
      "        _csvName = \"csvs/\" + str(name) + \"-clustered.csv\"\n",
      "        clustered_df.to_csv(_csvName)"
     ],
     "language": "python",
     "metadata": {},
     "outputs": [],
     "prompt_number": 11
    },
    {
     "cell_type": "code",
     "collapsed": false,
     "input": [],
     "language": "python",
     "metadata": {},
     "outputs": [],
     "prompt_number": 11
    }
   ],
   "metadata": {}
  }
 ]
}