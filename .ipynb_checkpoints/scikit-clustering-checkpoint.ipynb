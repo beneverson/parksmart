{
 "metadata": {
  "name": "",
  "signature": "sha256:f711c47e9a829d494837080a7ac2dbcf6352e5b82d4aefce80a0fec1018f8830"
 },
 "nbformat": 3,
 "nbformat_minor": 0,
 "worksheets": [
  {
   "cells": [
    {
     "cell_type": "code",
     "collapsed": false,
     "input": [
      "import pandas as pd\n",
      "from sklearn.neighbors import DistanceMetric\n",
      "from sklearn.cluster import DBSCAN"
     ],
     "language": "python",
     "metadata": {},
     "outputs": [],
     "prompt_number": 1
    },
    {
     "cell_type": "code",
     "collapsed": false,
     "input": [
      "violations = pd.read_csv('csvs/all_violations.csv', index_col=0)\n",
      "violations.shape"
     ],
     "language": "python",
     "metadata": {},
     "outputs": [
      {
       "metadata": {},
       "output_type": "pyout",
       "prompt_number": 2,
       "text": [
        "(1068954, 13)"
       ]
      }
     ],
     "prompt_number": 2
    },
    {
     "cell_type": "code",
     "collapsed": false,
     "input": [
      "# params for DBSCAN\n",
      "_eps = .00025\n",
      "_minpts = 3\n",
      "# distance metric\n",
      "dist = DistanceMetric.get_metric('euclidean')\n",
      "# group the violations by precinct\n",
      "grouped = violations.groupby('precinct')"
     ],
     "language": "python",
     "metadata": {},
     "outputs": [],
     "prompt_number": 14
    },
    {
     "cell_type": "code",
     "collapsed": false,
     "input": [
      "for name, group in grouped:\n",
      "    # zip the lat lon, into a single vector\n",
      "    X = [list(i) for i in zip(group.latitude, group.longitude)]\n",
      "    # generate pairwise distance matrix\n",
      "    _pairwise = dist.pairwise(X)\n",
      "    # generate clusters\n",
      "    clusters = DBSCAN(eps=_eps, min_samples=_minpts, metric='precomputed').fit_predict(_pairwise)\n",
      "    # save the clustered df\n",
      "    clustered_df = group.copy()\n",
      "    clustered_df['clusterid'] = clusters\n",
      "    _csvName = \"csvs/\" + str(name) + \"-clustered.csv\"\n",
      "    clustered_df.to_csv(_csvName)"
     ],
     "language": "python",
     "metadata": {},
     "outputs": [],
     "prompt_number": 15
    },
    {
     "cell_type": "code",
     "collapsed": false,
     "input": [],
     "language": "python",
     "metadata": {},
     "outputs": [],
     "prompt_number": 4
    }
   ],
   "metadata": {}
  }
 ]
}