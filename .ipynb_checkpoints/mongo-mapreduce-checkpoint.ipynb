{
 "metadata": {
  "name": "",
  "signature": "sha256:c67f9712d172a9a461068ae74887b2609084360fbef0dfaecedf01ab3ccff3c4"
 },
 "nbformat": 3,
 "nbformat_minor": 0,
 "worksheets": [
  {
   "cells": [
    {
     "cell_type": "code",
     "collapsed": false,
     "input": [
      "import pymongo\n",
      "import pandas as pd\n",
      "import geojson\n",
      "import numpy as np\n",
      "from urlparse import urlparse\n",
      "from bson.code import Code"
     ],
     "language": "python",
     "metadata": {},
     "outputs": [],
     "prompt_number": 1
    },
    {
     "cell_type": "code",
     "collapsed": false,
     "input": [
      "# get connection to the mongodb instance\n",
      "client = MongoClient()\n",
      "db = client.nycparking\n",
      "collection = db.violationhistory"
     ],
     "language": "python",
     "metadata": {},
     "outputs": [],
     "prompt_number": 2
    },
    {
     "cell_type": "code",
     "collapsed": false,
     "input": [
      "# create a mapreduce program that finds the two most distant points (in a euclidean sense) in a given cluster\n",
      "# map function\n",
      "\n",
      "# this function emits a \"points\" data structure as the value, \n",
      "map = Code(\"function () {\"\n",
      "           \"  var key = this.clusterid;\"\n",
      "           \"  var value = { firstPoint: this.loc.coordinates, secondPoint: this.loc.coordinates };\"\n",
      "           \"  emit(key, value);\"\n",
      "            \"}\")"
     ],
     "language": "python",
     "metadata": {},
     "outputs": [],
     "prompt_number": 3
    },
    {
     "cell_type": "code",
     "collapsed": false,
     "input": [
      "# reduce function\n",
      "\n",
      "# this function finds the two points furthest away in euclidean space for a given clusterid\n",
      "reduce = Code(\"function(keyClusterID, valuesPointPairs) {\"\n",
      "              \"  var largestValue = valuesPointPairs[0];\"\n",
      "              \"  var largestDist = 0.0;\"\n",
      "              \"  for (var i = 0; i < valuesPointPairs.length; i++){\"\n",
      "              \"    for (var k = 0; k < valuesPointPairs.length; k++){\"\n",
      "              \"      testFirstPoint = valuesPointPairs[i].firstPoint;\"\n",
      "              \"      testSecondPoint = valuesPointPairs[k].secondPoint;\"\n",
      "              \"      testDistOne = (testFirstPoint[0] - testSecondPoint[0])*(testFirstPoint[0] - testSecondPoint[0]);\"\n",
      "              \"      testDistTwo = (testFirstPoint[1] - testSecondPoint[1])*(testFirstPoint[1] - testSecondPoint[1]);\"\n",
      "              \"      testDist = testDistOne + testDistTwo;\"\n",
      "              \"      if (testDist > largestDist){\"\n",
      "              \"        largestDist = testDist;\"\n",
      "              \"        largestValue.firstPoint = testFirstPoint;\"\n",
      "              \"        largestValue.secondPoint = testSecondPoint;\"\n",
      "              \"      }\"\n",
      "              \"    }\"\n",
      "              \"  }\"\n",
      "              \"  return largestValue;\"\n",
      "              \"}\")"
     ],
     "language": "python",
     "metadata": {},
     "outputs": [],
     "prompt_number": 4
    },
    {
     "cell_type": "code",
     "collapsed": false,
     "input": [
      "result = collection.map_reduce(map, reduce, \"clusterbounds\")"
     ],
     "language": "python",
     "metadata": {},
     "outputs": [],
     "prompt_number": 5
    },
    {
     "cell_type": "code",
     "collapsed": false,
     "input": [],
     "language": "python",
     "metadata": {},
     "outputs": [],
     "prompt_number": 5
    }
   ],
   "metadata": {}
  }
 ]
}